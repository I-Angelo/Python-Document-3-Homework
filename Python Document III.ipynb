{
 "cells": [
  {
   "cell_type": "markdown",
   "metadata": {},
   "source": [
    "# Data Collections 2 (Dictionaries, Sets) and Importing Modules"
   ]
  },
  {
   "cell_type": "markdown",
   "metadata": {},
   "source": [
    "## Tasks Today:\n",
    "\n",
    "1) Dictionary <br>\n",
    " &nbsp;&nbsp;&nbsp;&nbsp; a) Declaring (key, value) <br>\n",
    " &nbsp;&nbsp;&nbsp;&nbsp; b) Accessing Values <br>\n",
    " &nbsp;&nbsp;&nbsp;&nbsp; ------ Exercise #1 - Print the eye color of each person in a double nested dict <br>\n",
    " &nbsp;&nbsp;&nbsp;&nbsp; c) Adding New Pairs <br>\n",
    " &nbsp;&nbsp;&nbsp;&nbsp; d) Modifying Values <br>\n",
    " &nbsp;&nbsp;&nbsp;&nbsp; e) Removing Key, Value Pairs <br>\n",
    " &nbsp;&nbsp;&nbsp;&nbsp; f) Looping a Dictionary <br>\n",
    " &nbsp;&nbsp;&nbsp;&nbsp; g) Looping Only Keys <br>\n",
    " &nbsp;&nbsp;&nbsp;&nbsp; h) Looping Only Values <br>\n",
    " &nbsp;&nbsp;&nbsp;&nbsp; ------ Exercise #2 - Create a Function that Prints All Key Value Pairs within a print .format()  <br>\n",
    " &nbsp;&nbsp;&nbsp;&nbsp; i) sorted() <br>\n",
    " &nbsp;&nbsp;&nbsp;&nbsp; j) Lists with Dictionaries <br>\n",
    " &nbsp;&nbsp;&nbsp;&nbsp; k) Dictionaries with Lists <br>\n",
    " &nbsp;&nbsp;&nbsp;&nbsp; l) Dictionaries with Dictionaries <br>\n",
    " &nbsp;&nbsp;&nbsp;&nbsp; ------ Exercise #3 - Write a Function that asks someone's name and address, and then stores that into a dictionary, which prints all names and addresses after they're done putting information in...  <br>\n",
    "2) Dictionaries vs. Lists (over time)<br>\n",
    "3) Set <br>\n",
    " &nbsp;&nbsp;&nbsp;&nbsp; a) Declaring <br>\n",
    " &nbsp;&nbsp;&nbsp;&nbsp; b) .add() <br>\n",
    " &nbsp;&nbsp;&nbsp;&nbsp; c) .remove() <br>\n",
    " &nbsp;&nbsp;&nbsp;&nbsp; d) .union() <br>\n",
    " &nbsp;&nbsp;&nbsp;&nbsp; e) .intersection() <br>\n",
    " &nbsp;&nbsp;&nbsp;&nbsp; f) .difference() <br>\n",
    " &nbsp;&nbsp;&nbsp;&nbsp; g) Frozen Set <br>\n",
    "4) Modules <br>\n",
    " &nbsp;&nbsp;&nbsp;&nbsp; a) Importing Entire Modules <br>\n",
    " &nbsp;&nbsp;&nbsp;&nbsp; b) Importing Methods Only <br>\n",
    " &nbsp;&nbsp;&nbsp;&nbsp; c) Using the 'as' Keyword <br>\n",
    " &nbsp;&nbsp;&nbsp;&nbsp; d) Creating a Module <br>\n",
    "5) Exercises <br>\n",
    " &nbsp;&nbsp;&nbsp;&nbsp; a) Build a Shopping Cart <br>\n",
    " &nbsp;&nbsp;&nbsp;&nbsp; b) Create Your Own Module <br>"
   ]
  },
  {
   "cell_type": "markdown",
   "metadata": {},
   "source": [
    "## Dictionary <br>\n",
    "<p>A collection of data with 'key:value' pairs. Dictionaries are ordered as of Python 3.6</p>"
   ]
  },
  {
   "cell_type": "markdown",
   "metadata": {},
   "source": [
    "##### Declaring (key, value)"
   ]
  },
  {
   "cell_type": "code",
   "execution_count": 1,
   "metadata": {},
   "outputs": [
    {
     "name": "stdout",
     "output_type": "stream",
     "text": [
      "{'dave': '255 Main Street', 'paul': '522 1st Street', 0: 'This is a value for key of 0'}\n"
     ]
    }
   ],
   "source": [
    "# Keys should be unique\n",
    "# Can use numbers or strings as keys\n",
    "\n",
    "dict_1 ={}\n",
    "\n",
    "# OR\n",
    "\n",
    "dict_2 = dict()\n",
    "\n",
    "# With data \n",
    "\n",
    "dict_3 = {\n",
    "    'dave': '255 Main Street',\n",
    "    'paul': '522 1st Street',\n",
    "    0: 'This is a value for key of 0', #Leaving the comma after the last key is good practice\n",
    "}\n",
    "\n",
    "print(dict_3)"
   ]
  },
  {
   "cell_type": "markdown",
   "metadata": {},
   "source": [
    "##### Accessing Values"
   ]
  },
  {
   "cell_type": "code",
   "execution_count": 2,
   "metadata": {},
   "outputs": [
    {
     "name": "stdout",
     "output_type": "stream",
     "text": [
      "255 Main Street\n",
      "This is a value for key of 0\n"
     ]
    },
    {
     "data": {
      "text/plain": [
       "'This is a value for key of 0'"
      ]
     },
     "execution_count": 2,
     "metadata": {},
     "output_type": "execute_result"
    }
   ],
   "source": [
    "# dict[key]\n",
    "# ^ this returns the value\n",
    "\n",
    "print(dict_3['dave'])\n",
    "print(dict_3[0])\n",
    "\n",
    "dict_3['dave']\n",
    "dict_3[0]"
   ]
  },
  {
   "cell_type": "markdown",
   "metadata": {},
   "source": [
    "## In-Class Exercise #1 - Print a formatted statement from the dictionary below <br>\n",
    "<p>The output should be '2018 Chevrolet Silverado'</p>"
   ]
  },
  {
   "cell_type": "code",
   "execution_count": 65,
   "metadata": {},
   "outputs": [
    {
     "name": "stdout",
     "output_type": "stream",
     "text": [
      "My favorite truck is a  2018 Chevrolet Silverado\n"
     ]
    }
   ],
   "source": [
    "# use the dict below\n",
    "truck = {\n",
    "    'year': 2018,\n",
    "    'make': 'Chevrolet',\n",
    "    'model': 'Silverado'\n",
    "}\n",
    "\n",
    "\n",
    "print('My favorite truck is a ', str(truck['year']) + ' ' + truck['make'] + ' ' + truck['model'])\n",
    "\n",
    "# or\n",
    "# truck['year'] = str(truck['year'])\n",
    "# print('My favorite car is a {} {} {}'.format(str(truck['year'], truck['make'], truck['model'])\n",
    "\n",
    "\n"
   ]
  },
  {
   "cell_type": "markdown",
   "metadata": {},
   "source": [
    "##### Adding New Pairs"
   ]
  },
  {
   "cell_type": "code",
   "execution_count": 84,
   "metadata": {},
   "outputs": [
    {
     "data": {
      "text/plain": [
       "{'dave': '255 Main Street',\n",
       " 'Paul': '522 1st Street',\n",
       " 0: 'This is a value for key of 0',\n",
       " 'bob': 'Nashville'}"
      ]
     },
     "execution_count": 84,
     "metadata": {},
     "output_type": "execute_result"
    }
   ],
   "source": [
    "# dict[key] = value\n",
    "\n",
    "# We are adding an object to our previous dictionary\n",
    "\n",
    "dict_3['bob'] = 'Nashville'\n",
    "\n",
    "dict_3\n",
    "\n",
    "# The new value was added as seen in the result at the bottom"
   ]
  },
  {
   "cell_type": "markdown",
   "metadata": {},
   "source": [
    "##### Modifying Values"
   ]
  },
  {
   "cell_type": "code",
   "execution_count": 85,
   "metadata": {},
   "outputs": [
    {
     "data": {
      "text/plain": [
       "{'dave': '255 Main Street',\n",
       " 'Paul': '522 1st Street',\n",
       " 0: 'This is a value for key of 0',\n",
       " 'bob': 'From Ohio'}"
      ]
     },
     "execution_count": 85,
     "metadata": {},
     "output_type": "execute_result"
    }
   ],
   "source": [
    "# dict_3[key] = value\n",
    "\n",
    "# Just as adding a new object 'key:value' to the dictionary, we can change the value as well as indicated above\n",
    "\n",
    "# Changing 'bob' = 'Nashville' to something else\n",
    "\n",
    "dict_3['bob'] = 'From Ohio'\n",
    "\n",
    "dict_3\n"
   ]
  },
  {
   "cell_type": "markdown",
   "metadata": {},
   "source": [
    "##### Removing Key, Value Pairs"
   ]
  },
  {
   "cell_type": "code",
   "execution_count": 86,
   "metadata": {},
   "outputs": [
    {
     "data": {
      "text/plain": [
       "{'dave': '255 Main Street',\n",
       " 'Paul': '522 1st Street',\n",
       " 0: 'This is a value for key of 0'}"
      ]
     },
     "execution_count": 86,
     "metadata": {},
     "output_type": "execute_result"
    }
   ],
   "source": [
    "# del dict[key] \n",
    "\n",
    "del dict_3['bob']\n",
    "\n",
    "dict_3"
   ]
  },
  {
   "cell_type": "markdown",
   "metadata": {},
   "source": [
    "##### Looping a Dictionary"
   ]
  },
  {
   "cell_type": "code",
   "execution_count": 67,
   "metadata": {},
   "outputs": [
    {
     "name": "stdout",
     "output_type": "stream",
     "text": [
      "dave 255 Main Street\n",
      "Paul 522 1st Street\n",
      "0 This is a value for key of 0\n"
     ]
    }
   ],
   "source": [
    "# .items()\n",
    "# a, b, c = 1, 2, 3\n",
    "# print(a)\n",
    "# print(b)\n",
    "# print(c)\n",
    "\n",
    "for key, value in dict_3.items():\n",
    "    print(key, value)"
   ]
  },
  {
   "cell_type": "markdown",
   "metadata": {},
   "source": [
    "##### Looping Only Keys"
   ]
  },
  {
   "cell_type": "code",
   "execution_count": 68,
   "metadata": {},
   "outputs": [
    {
     "name": "stdout",
     "output_type": "stream",
     "text": [
      "dave\n",
      "Paul\n",
      "0\n"
     ]
    }
   ],
   "source": [
    "# .keys()\n",
    "\n",
    "for key in dict_3.keys():\n",
    "    print(key)"
   ]
  },
  {
   "cell_type": "markdown",
   "metadata": {},
   "source": [
    "##### Looping Only Values"
   ]
  },
  {
   "cell_type": "code",
   "execution_count": 69,
   "metadata": {},
   "outputs": [
    {
     "name": "stdout",
     "output_type": "stream",
     "text": [
      "255 Main Street\n",
      "522 1st Street\n",
      "This is a value for key of 0\n"
     ]
    }
   ],
   "source": [
    "# .values()\n",
    "\n",
    "for value in dict_3.values():\n",
    "    print(value)"
   ]
  },
  {
   "cell_type": "markdown",
   "metadata": {},
   "source": [
    "## In-Class Exercise #2 - Create a Function that Prints All Key Value Pairs within a print .format() <br>\n",
    "<p><b>Output should be:</b><br>\n",
    "Max has blue eyes<br>\n",
    "Lilly has brown eyes<br>\n",
    "Barney has blue eyes<br>\n",
    "etc.\n",
    "</p>"
   ]
  },
  {
   "cell_type": "code",
   "execution_count": 71,
   "metadata": {},
   "outputs": [
    {
     "name": "stdout",
     "output_type": "stream",
     "text": [
      "Max has blue eyes\n",
      "Lilly has brown eyes\n",
      "Barney has blue eyes\n",
      "Larney has brown eyes\n",
      "Ted has purple eyes\n"
     ]
    }
   ],
   "source": [
    "# use the dict below\n",
    "\n",
    "people = {\n",
    "    'Max': 'blue',\n",
    "    'Lilly': 'brown',\n",
    "    'Barney': 'blue',\n",
    "    'Larney': 'brown',\n",
    "    'Ted': 'purple'\n",
    "}\n",
    "\n",
    "for key, values in people.items():\n",
    "    print(key, 'has', values, 'eyes')\n"
   ]
  },
  {
   "cell_type": "markdown",
   "metadata": {},
   "source": [
    "##### sorted()"
   ]
  },
  {
   "cell_type": "code",
   "execution_count": 75,
   "metadata": {},
   "outputs": [
    {
     "name": "stdout",
     "output_type": "stream",
     "text": [
      "[('Barney', 'blue'), ('Larney', 'brown'), ('Lilly', 'brown'), ('Max', 'blue'), ('Ted', 'purple')]\n",
      "['Barney', 'Larney', 'Lilly', 'Max', 'Ted']\n",
      "['blue', 'blue', 'brown', 'brown', 'purple']\n",
      "['blue', 'blue', 'brown', 'brown', 'purple']\n"
     ]
    }
   ],
   "source": [
    "# sorts variables in order\n",
    "# sorted(dict.values()) or dict.keys() or dict.items()\n",
    "\n",
    "# NOTE!!! sort() does not work with dicitonaries. Only sorted() because we cant change the order of a dictionary\n",
    "\n",
    "print(sorted(people.items()))\n",
    "print(sorted(people.keys()))\n",
    "print(sorted(people.values()))\n",
    "\n",
    "# when doing the above, python will print a list of the values we are requesting. However, we can store the new\n",
    "# list with the dictionary items as it is below\n",
    "\n",
    "new_variable = print(sorted(people.values()))"
   ]
  },
  {
   "cell_type": "markdown",
   "metadata": {},
   "source": [
    "##### List with Dictionaries"
   ]
  },
  {
   "cell_type": "markdown",
   "metadata": {},
   "source": []
  },
  {
   "cell_type": "code",
   "execution_count": 78,
   "metadata": {},
   "outputs": [
    {
     "name": "stdout",
     "output_type": "stream",
     "text": [
      "Barbara\n",
      "random_guy\n",
      "random_girl\n"
     ]
    }
   ],
   "source": [
    "names = ['Dave', 'Randy', 'Greg', {'random_guy':'Robert', 'random_girl':'Barbara'}]\n",
    "\n",
    "print(names[3]['random_girl'])\n",
    "\n",
    "# Get all the keys from a nested dictionary in a list\n",
    "\n",
    "for keys in names[3].keys():\n",
    "    print(keys)"
   ]
  },
  {
   "cell_type": "markdown",
   "metadata": {},
   "source": [
    "##### Dictionaries with Lists"
   ]
  },
  {
   "cell_type": "code",
   "execution_count": 16,
   "metadata": {},
   "outputs": [
    {
     "name": "stdout",
     "output_type": "stream",
     "text": [
      "Smith\n",
      "\n",
      "\n",
      "Smith\n",
      "iPod\n",
      "water bottle\n",
      "54\n",
      "7\n",
      "11\n"
     ]
    }
   ],
   "source": [
    "# be careful when using numbers as keys in dictionaries, don't confuse them with indexes\n",
    "\n",
    "random_dict = {\n",
    "    0: 'Zero',\n",
    "    3: 'One',\n",
    "    17: 'Two',\n",
    "    2: 'Three',\n",
    "}\n",
    "\n",
    "random_dict[2]\n",
    "\n",
    "random_data = {\n",
    "    'list1': [54, 7, 11],\n",
    "    '2': ['Smith'],\n",
    "}\n",
    "\n",
    "for key in random_data['2']:\n",
    "    print(key)\n",
    "    \n",
    "print('\\n')\n",
    "\n",
    "random_data2 = {\n",
    "    'list1': [54, 7, 11],\n",
    "    '2': ['Smith', 'iPod', 'water bottle'],\n",
    "}\n",
    "\n",
    "for i in random_data2['2']:\n",
    "    print(i)\n",
    "    \n",
    "for i in random_data2['list1']:\n",
    "    print(i)\n",
    "    \n",
    "random_data3 = {\n",
    "    'list1': [54, 7, 11],\n",
    "    '2': ['Smith', 'iPod', {'water bottle': 'bottle'}],\n",
    "}\n",
    "\n",
    "# print(random_data3['2']['water'])\n",
    "# for i in random_data3['2'].values():\n",
    "#     print(i)"
   ]
  },
  {
   "cell_type": "markdown",
   "metadata": {},
   "source": [
    "##### Dictionaries with Dictionaries"
   ]
  },
  {
   "cell_type": "code",
   "execution_count": null,
   "metadata": {},
   "outputs": [],
   "source": [
    "# to get values, must traverse through keys\n",
    "\n",
    "food_dict = {\n",
    "    'ice_cream': {\n",
    "        'CHO': 2.99,\n",
    "        'VA': 3.99,\n",
    "        'Oreo': 5.99,\n",
    "        'PB': 6.99,\n",
    "    }\n",
    "}\n",
    "\n",
    "print(food_dict['ice_cream']['VA'])\n",
    "\n",
    "for i in food_dict['ice_cream'].keys():\n",
    "    print(i)\n",
    "    \n",
    "print('\\n')\n",
    "\n",
    "for i in food_dict['ice_cream'].values():\n",
    "    print(i)\n",
    "\n",
    "print('\\n')\n",
    "\n",
    "for i in food_dict['ice_cream'].items():\n",
    "    print(i)\n",
    "    \n",
    "print('\\n')\n",
    "\n",
    "for i in food_dict.items():\n",
    "    print(i)"
   ]
  },
  {
   "cell_type": "markdown",
   "metadata": {},
   "source": [
    "## Dictionaries vs. Lists (over time) Example of RUNTIME\n",
    "### When inputting values in a Dictionary vs List"
   ]
  },
  {
   "cell_type": "code",
   "execution_count": null,
   "metadata": {},
   "outputs": [],
   "source": [
    "import time\n",
    "\n",
    "\n",
    "# generate fake dictionary\n",
    "d = {}\n",
    "\n",
    "for i in range(10000000):\n",
    "    d[i] = 'value'\n",
    "    \n",
    "\n",
    "# generate fake list\n",
    "big_list = [x for x in range(10000000)]"
   ]
  },
  {
   "cell_type": "code",
   "execution_count": null,
   "metadata": {},
   "outputs": [],
   "source": [
    "# tracking time for dictionary\n",
    "start_time = time.time()\n",
    "\n",
    "print(d[9999999])\n",
    "\n",
    "end_time = time.time() - start_time\n",
    "\n",
    "print('Elapsed time for dictionary: {}'.format(end_time))\n",
    "\n",
    "\n",
    "# tracking time for list\n",
    "start_time = time.time()\n",
    "\n",
    "for i in range(len(big_list)):\n",
    "    if i == 9999999:\n",
    "        print(i)\n",
    "\n",
    "end_time = time.time() - start_time\n",
    "\n",
    "print('Elapsed time for list: {}'.format(end_time))"
   ]
  },
  {
   "cell_type": "markdown",
   "metadata": {},
   "source": [
    "## Exercise #3 - Write a Function that asks someone's name and address, and then stores that into a dictionary, and continues to do so until they choose to 'quit'. Once they quit, the program should print all names and addresses. <br>\n",
    "<p>\n",
    "<b>Proper steps:</b><br>\n",
    "step 1: write a function that takes in information and stores it in a dictionary<br>\n",
    "step 2: define an empty dictionary to work with<br>\n",
    "step 3: create our loop, which asks the user for information until they quit<br>\n",
    "step 4: ask for the information, and store it into variables<br>\n",
    "step 5: check if the user types quit<br>\n",
    "step 5a: print out all information<br>\n",
    "step 5b: break out of the loop<br>\n",
    "step 6: if they didn't quit, add the information to the dictionary<br>\n",
    "step 7: invoke the function by calling it\n",
    "</p>"
   ]
  },
  {
   "cell_type": "code",
   "execution_count": 21,
   "metadata": {},
   "outputs": [
    {
     "name": "stdout",
     "output_type": "stream",
     "text": [
      "Would you like to add a user ? (yes/quit)quit\n",
      "Ivan Boca\n",
      "Liz WP\n",
      "Pat Jupiter\n",
      "{'Ivan': 'Boca', 'Liz': 'WP', 'Pat': 'Jupiter'}\n"
     ]
    }
   ],
   "source": [
    "from IPython.display import clear_output\n",
    "\n",
    "# clear_output function clear the input and output once the information has been entered to not have\n",
    "# tons of lines of answers and code printed in our scre. Use is optional for this excercise but we'll use it\n",
    "\n",
    "# Example:\n",
    "# input('Name ?')\n",
    "# input('Age ?')\n",
    "# clear_output()\n",
    "\n",
    "# -------------------\n",
    "\n",
    "# Step 1\n",
    "\n",
    "def user_info():\n",
    "    dict_users = {}\n",
    "#     \n",
    "    while True:\n",
    "        cont = input('Would you like to add a user ? (yes/quit)')\n",
    "        if cont == 'yes':\n",
    "            name = input('Name ?')\n",
    "            age = input('Adress ?')\n",
    "            dict_users[name] = age\n",
    "            clear_output()\n",
    "        if cont == 'quit':\n",
    "            for key, value in dict_users.items():\n",
    "                print(key, value)\n",
    "        \n",
    "            break\n",
    "\n",
    "            \n",
    "    return dict_users\n",
    "\n",
    "\n",
    "\n",
    "\n",
    "# def user_info(name, town, cont= ' ', **dict_users):\n",
    "    \n",
    "#     # dict_users = {}\n",
    "#     if cont == 'no':\n",
    "#         # break\n",
    "#         flag = False\n",
    "#         sys.exit()\n",
    "#             # break\n",
    "#     if cont == 'yes':\n",
    "#         flag = True\n",
    "    \n",
    "#     while flag:\n",
    "#         dict_users[name] = town\n",
    "        \n",
    "#         cont = input('Would you like to add more users ?')\n",
    "\n",
    "#         if cont == 'yes':\n",
    "#             user_input(cont, **dict_users)\n",
    "\n",
    "#         else:\n",
    "#             flag = False\n",
    "#             print_info(**dict_users)\n",
    "\n",
    "        \n",
    "        \n",
    "# def user_input(cont, **dict_users):   \n",
    "#     name = input('Name ? ')\n",
    "#     town = input('Town ?')\n",
    "#     user_info(name, town, cont, **dict_users)\n",
    "    \n",
    "\n",
    "# def print_info(**dict_users):\n",
    "#     print('The information entered was : \\n')\n",
    "#     for key, values in dict_users.items():\n",
    "#         print(key, values)\n",
    "        \n",
    "#         # print(dict_users)\n",
    "    \n",
    "    \n",
    "# dict_users = {}\n",
    "# cont = input('Would you like to add users ?')\n",
    "# name = input('Name ? ')\n",
    "# town = input('Town ?')\n",
    "\n",
    "# user_info(name, town, cont, **dict_users)"
   ]
  },
  {
   "cell_type": "markdown",
   "metadata": {},
   "source": [
    "## Set <br>\n",
    "<p>A Set is an unordered collection data type that is iterable (loop), mutable, and has no duplicate elements.<br>Major advantage is that it is highly optimized in checking if something is in the set, as opposed to checking if something is in a list.</p>"
   ]
  },
  {
   "cell_type": "markdown",
   "metadata": {},
   "source": [
    "##### Declaring"
   ]
  },
  {
   "cell_type": "code",
   "execution_count": 2,
   "metadata": {},
   "outputs": [
    {
     "name": "stdout",
     "output_type": "stream",
     "text": [
      "{1, 2, 4, 7, 8}\n"
     ]
    }
   ],
   "source": [
    "# set() or {}\n",
    "# no order {3, 2, 1} outputs as {1, 2, 3}\n",
    "\n",
    "nums = {2,4,7,1,8}\n",
    "# nums = {'is2 Thi1s T4est 3a'}\n",
    "\n",
    "print(nums)"
   ]
  },
  {
   "cell_type": "markdown",
   "metadata": {},
   "source": [
    "##### .add()"
   ]
  },
  {
   "cell_type": "code",
   "execution_count": 26,
   "metadata": {},
   "outputs": [
    {
     "name": "stdout",
     "output_type": "stream",
     "text": [
      "{1, 2, 4, 7, 8, 56, 30}\n"
     ]
    }
   ],
   "source": [
    "# set.add()\n",
    "\n",
    "nums.add(30)\n",
    "nums.add(56)\n",
    "print(nums)"
   ]
  },
  {
   "cell_type": "markdown",
   "metadata": {},
   "source": [
    "##### .remove()"
   ]
  },
  {
   "cell_type": "code",
   "execution_count": 27,
   "metadata": {},
   "outputs": [
    {
     "name": "stdout",
     "output_type": "stream",
     "text": [
      "{1, 2, 4, 7, 8, 30}\n"
     ]
    }
   ],
   "source": [
    "# removes by value\n",
    "# set.remove()\n",
    "# nums.remove(56)\n",
    "\n",
    "nums.remove(56)\n",
    "print(nums)"
   ]
  },
  {
   "cell_type": "markdown",
   "metadata": {},
   "source": [
    "##### .union() "
   ]
  },
  {
   "cell_type": "code",
   "execution_count": 30,
   "metadata": {},
   "outputs": [
    {
     "name": "stdout",
     "output_type": "stream",
     "text": [
      "{1, 2, 3, 4, 5, 6, 7, 8}\n",
      "{1, 2, 3, 4, 5, 6, 7, 8}\n"
     ]
    }
   ],
   "source": [
    "# Returns a union of two sets, can also use '|' or set.union(set)\n",
    "# joins all numbers, gets rid of duplicates\n",
    "\n",
    "s1 = {1,6,3,7,8}\n",
    "s2 = {4,7,2,8,5,6}\n",
    "\n",
    "s3 = s1.union(s2)\n",
    "\n",
    "print(s3)\n",
    "\n",
    "# or\n",
    "\n",
    "s4 = s1 | s2\n",
    "\n",
    "print(s4)"
   ]
  },
  {
   "cell_type": "markdown",
   "metadata": {},
   "source": [
    "##### .intersection()"
   ]
  },
  {
   "cell_type": "code",
   "execution_count": 33,
   "metadata": {},
   "outputs": [
    {
     "name": "stdout",
     "output_type": "stream",
     "text": [
      "{8, 6, 7}\n",
      "{8, 6, 7}\n"
     ]
    }
   ],
   "source": [
    "# Returns an intersection of two sets, can also use '&'\n",
    "# only takes similar elements from both sets\n",
    "\n",
    "s5 = s1 & s2\n",
    "\n",
    "print(s5)\n",
    "\n",
    "# Or\n",
    "\n",
    "s6 = s1.intersection(s2)\n",
    "\n",
    "print(s6)"
   ]
  },
  {
   "cell_type": "markdown",
   "metadata": {},
   "source": [
    "##### .difference()"
   ]
  },
  {
   "cell_type": "code",
   "execution_count": 36,
   "metadata": {},
   "outputs": [
    {
     "name": "stdout",
     "output_type": "stream",
     "text": [
      "{1, 3, 6, 7, 8}\n",
      "{2, 4, 5, 6, 7, 8}\n",
      "{2, 4, 5}\n",
      "{1, 3}\n"
     ]
    }
   ],
   "source": [
    "# Returns a set containing all the elements of invoking set that are not in the second set, can also use '-'\n",
    "# only takes values from the first set that are not in the second set\n",
    "# order matters\n",
    "\n",
    "s1 = {1,6,3,7,8}\n",
    "s2 = {4,7,2,8,5,6}\n",
    "print(s1)\n",
    "print(s2)\n",
    "\n",
    "s7 = s2 - s1    # It will produce a set of numbers that are in s2 but that are not present in s1.\n",
    "                # This should print {4,2,5} or in order {2,4,5}. These numbers are in s2 but not in s1\n",
    "print(s7)\n",
    "\n",
    "# It can also be printed in the following format but the order of s1 and s2 were swaped . So it should print\n",
    "# {1,3}. These numbers are in s1 but not in s2\n",
    "\n",
    "s8 = s1.difference(s2)\n",
    "print(s8)"
   ]
  },
  {
   "cell_type": "markdown",
   "metadata": {},
   "source": [
    "##### .clear()"
   ]
  },
  {
   "cell_type": "code",
   "execution_count": 37,
   "metadata": {},
   "outputs": [
    {
     "name": "stdout",
     "output_type": "stream",
     "text": [
      "set()\n"
     ]
    }
   ],
   "source": [
    "# Empties the whole set\n",
    "# set.clear()\n",
    "\n",
    "set.clear(s8)\n",
    "\n",
    "print(s8)  #It will clear the set and it will print set() letting us know that we have an empty set()"
   ]
  },
  {
   "cell_type": "markdown",
   "metadata": {},
   "source": [
    "##### Frozenset <br>\n",
    "<p>Frozen sets are immutable objects that only support methods and operators that produce a result without affecting the frozen set or sets to which they are applied.</p><br><b>Unique & Immutable</b>"
   ]
  },
  {
   "cell_type": "code",
   "execution_count": 38,
   "metadata": {},
   "outputs": [
    {
     "name": "stdout",
     "output_type": "stream",
     "text": [
      "frozenset({1, 2, 3, 4, 5, 6, 7, 8})\n"
     ]
    }
   ],
   "source": [
    "# frozenset([])\n",
    "\n",
    "my_frozen_set = frozenset(s3)  #s3() result is above in '.union()' section => {1,2,3,4,5,6,7,8} as a result of \n",
    "                                # s3 = s1.union(s2) or s3 = s1 | s2\n",
    "print(my_frozen_set)   # You cannot add any other objects to this set. You will get an error"
   ]
  },
  {
   "cell_type": "markdown",
   "metadata": {},
   "source": [
    "## Modules"
   ]
  },
  {
   "cell_type": "markdown",
   "metadata": {},
   "source": [
    "##### Importing Entire Modules"
   ]
  },
  {
   "cell_type": "code",
   "execution_count": 41,
   "metadata": {},
   "outputs": [
    {
     "name": "stdout",
     "output_type": "stream",
     "text": [
      "3.141592653589793\n",
      "3\n"
     ]
    }
   ],
   "source": [
    "# import or from 'xxx' import *\n",
    "# import math\n",
    "\n",
    "# from math import pi\n",
    "# from math import floor\n",
    "\n",
    "# # or\n",
    "\n",
    "# from math import pi, floor\n",
    "\n",
    "#  or\n",
    "\n",
    "import math # <---- Math would be the entire module . 'import pi, floor' are the methods inside the math module\n",
    "\n",
    "print(pi)\n",
    "print(floor(pi))\n",
    "\n",
    "\n",
    "\n"
   ]
  },
  {
   "cell_type": "markdown",
   "metadata": {},
   "source": [
    "##### Importing Methods Only"
   ]
  },
  {
   "cell_type": "code",
   "execution_count": 42,
   "metadata": {},
   "outputs": [
    {
     "name": "stdout",
     "output_type": "stream",
     "text": [
      "3.141592653589793\n"
     ]
    }
   ],
   "source": [
    "# from 'xxx' import 'xxx'\n",
    "# from math import floor\n",
    "\n",
    "from math import pi, floor\n",
    "\n",
    "print(pi)\n"
   ]
  },
  {
   "cell_type": "markdown",
   "metadata": {},
   "source": [
    "##### Using the 'as' Keyword"
   ]
  },
  {
   "cell_type": "code",
   "execution_count": 44,
   "metadata": {},
   "outputs": [
    {
     "name": "stdout",
     "output_type": "stream",
     "text": [
      "3\n"
     ]
    }
   ],
   "source": [
    "# from 'xxx' import 'xxx' as 'xxx' or import 'xxx' as 'xxx'\n",
    "# from math import floor as f\n",
    "\n",
    "#  This is to provide functions another name to distinguish them of a variable that you may\n",
    "# have named the same way. for instance a variable called 'floor = 11' for example\n",
    "\n",
    "from math import floor as f, pi as p\n",
    "\n",
    "print(f(pi)) #to get the floor"
   ]
  },
  {
   "cell_type": "markdown",
   "metadata": {},
   "source": [
    "##### Creating a Module"
   ]
  },
  {
   "cell_type": "code",
   "execution_count": 45,
   "metadata": {},
   "outputs": [
    {
     "name": "stdout",
     "output_type": "stream",
     "text": [
      "Hello Mr/Ms Ivan...we've been waiting for you!\n",
      "None\n"
     ]
    }
   ],
   "source": [
    "import module  # This is the module I couldnt download and had to create on VS code and upload to the file on \n",
    "                # Jupyter\n",
    "#     NOTE!!!! If there are more functions (def 'whatever) inside the module we have that we are importing into \n",
    "# our program, and we want to bring only one specific function , then we us  :\n",
    "\n",
    "#                      from module import 'the name of that specific function'\n",
    "\n",
    "#  Then we can call and use that finction in our program\n",
    "\n",
    "print(module.printName('Ivan'))\n",
    "\n"
   ]
  },
  {
   "cell_type": "markdown",
   "metadata": {},
   "source": [
    "# Exercises"
   ]
  },
  {
   "cell_type": "markdown",
   "metadata": {},
   "source": [
    "### 1) Build a Shopping Cart <br>\n",
    "<p><b>You can use either lists or dictionaries. The program should have the following capabilities:</b><br><br>\n",
    "1) Takes in input <br>\n",
    "2) Stores user input into a dictionary or list <br>\n",
    "3) The User can add or delete items <br>\n",
    "4) The User can see current shopping list <br>\n",
    "5) The program Loops until user 'quits' <br>\n",
    "6) Upon quiting the program, print out all items in the user's list <br>\n",
    "</p>"
   ]
  },
  {
   "cell_type": "code",
   "execution_count": 2,
   "metadata": {},
   "outputs": [
    {
     "name": "stdout",
     "output_type": "stream",
     "text": [
      "\n",
      "\n",
      "Thank you for visiting us. We hope to see you soon!!!\n",
      "\n",
      "\n",
      "\n",
      "\n",
      "Please add items by their code # (eg. \"B1\")\n",
      "What Item would you like to add to your cart ? \n",
      "You can also choose \"s\" - to see items in cart, \"q\" - to quit, \"r\" - to check out\n",
      "\n",
      "\n"
     ]
    },
    {
     "name": "stderr",
     "output_type": "stream",
     "text": [
      "\n",
      "KeyboardInterrupt\n",
      "\n"
     ]
    }
   ],
   "source": [
    "from IPython.display import clear_output\n",
    "\n",
    "# Ask the user four bits of input: Do you want to : Show/Add/Delete or Quit?\n",
    "\n",
    "# import os\n",
    "import math\n",
    "# from IPython.display import clear_output\n",
    "\n",
    "# Takes Input from user\n",
    "def greeting():\n",
    "    clear_output()\n",
    "    print(\"\\n\\n*********************** Welcome to Coding Temple Store *****************************\")\n",
    "    print(' ')\n",
    "    print('  Bathroom Products                                  Cleaning Supplies')\n",
    "    print('    B1. Shampoo       4.99                             C1. Mops              6.99   ')\n",
    "    print('    B2. Toothpaste    6.99                             C2. Bleach            2.99')\n",
    "    print('    B3. Toothbrush    2.99                             C3. Brooms            10.99')\n",
    "    print('    B4. Handsoap      1.99                             C4. Rubber Gloves     7.99')\n",
    "    print(' ')\n",
    "    print('  School Supplies                                    Groceries')\n",
    "    print('    S1. Note book     3.99                             G1. Tomatoes          1.99')\n",
    "    print('    S2. Pencils H2    2.99                             G2. Ribeye            18.99')\n",
    "    print('    S3. Markers       6.99                             G3. OJ                6.99')\n",
    "    print('    S4. Eraser        1.99                             G4. Milk              5.99')\n",
    "\n",
    "    print('\\n\\n')\n",
    "    user_start = input('Would you like start shopping with us ? \"y\"-continue / \"n\"-quit.  -->  ').strip().lower()\n",
    "    try:\n",
    "        if user_start == 'y':\n",
    "            user_input() \n",
    "        elif user_start == 'n':\n",
    "            exit_program()\n",
    "        else:\n",
    "            print('Invalid option! \\n\\n')\n",
    "            return greeting()\n",
    "    except ValueError():\n",
    "        print('That is not one of our options. Please try again')\n",
    "        return greeting()\n",
    "\n",
    "def display_list(**shopping_list):\n",
    "    print(\"\\n\\n*********************** Welcome to Coding Temple Store *****************************\")\n",
    "    print(' ')\n",
    "    print('  Bathroom Products                                  Cleaning Supplies')\n",
    "    print('    B1. Shampoo       4.99                             C1. Mops              6.99   ')\n",
    "    print('    B2. Toothpaste    6.99                             C2. Bleach            2.99')\n",
    "    print('    B3. Toothbrush    2.99                             C3. Brooms            10.99')\n",
    "    print('    B4. Handsoap      1.99                             C4. Rubber Gloves     7.99')\n",
    "    print(' ')\n",
    "    print('  School Supplies                                    Groceries')\n",
    "    print('    S1. Note book     3.99                             G1. Tomatoes          1.99')\n",
    "    print('    S2. Pencils H2    2.99                             G2. Ribeye            18.99')\n",
    "    print('    S3. Markers       6.99                             G3. OJ                6.99')\n",
    "    print('    S4. Eraser        1.99                             G4. Milk              5.99')\n",
    "\n",
    "    continue_shopping(**shopping_list)\n",
    "\n",
    "# User Input\n",
    "def user_input(**shopping_list):\n",
    "    print('\\n\\n\\n')\n",
    "    \n",
    "    shopping_list_store = {\n",
    "        'Shampoo' : 4.99,                                  \n",
    "        'Toothpaste' : 6.99,   \n",
    "        'Toothbrush' : 2.99,                     \n",
    "        'Handsoap' : 1.99,                       \n",
    "        'Mops' : 6.99,          \n",
    "        'Bleach' : 2.99,           \n",
    "        'Brooms' : 10.99,            \n",
    "        'Rubber Gloves' : 7.99,    \n",
    "        'Lamps' : 3.99,                                  \n",
    "        'Tomatoes' : 1.99,\n",
    "        'Pencils H2' : 2.99,                    \n",
    "        'Ribeye' : 18.99,\n",
    "        'Markers' : 6.99,                       \n",
    "        'OJ' : 6.99,                \n",
    "        'Eraser' : 1.99,        \n",
    "        'Milk' : 5.99,              \n",
    "    }\n",
    "\n",
    "    item_equalizer = {\n",
    "        'B1' : 'Shampoo',\n",
    "        'B2' : 'Toothpaste',\n",
    "        'B3' : 'Toothbrush',\n",
    "        'B4' : 'Handsoap',\n",
    "        'C1' : 'Mops',\n",
    "        'C2' : 'Bleach',\n",
    "        'C3' : 'Brooms',\n",
    "        'C4' : 'Rubber Gloves',\n",
    "        'K1' : 'Lamps',\n",
    "        'K2' : 'Pencils H2',\n",
    "        'K3' : 'Markers',\n",
    "        'K4' : 'Eraser',\n",
    "        'G1' : 'Tomatoes',\n",
    "        'G2' : 'Ribeye',\n",
    "        'G3' : 'OJ',\n",
    "        'G4' : 'Milk',\n",
    "        }\n",
    "\n",
    "\n",
    "    shopping_list = {}\n",
    "    \n",
    "    flag = True \n",
    "    while flag:\n",
    "        print('Please add items by their code # (eg. \"B1\")')\n",
    "        print('What Item would you like to add to your cart ? ')\n",
    "        print('You can also choose \"s\" - to see items in cart, \"q\" - to quit, \"r\" - to check out')\n",
    "        item = input('---->   ')\n",
    "     \n",
    "        if item in item_equalizer.keys():\n",
    "            x = item_equalizer[item]\n",
    "            shopping_list[x] = shopping_list_store[x]\n",
    "            print('\\nThis is what you have added so far to your cart : \\n', shopping_list)\n",
    "            print('\\n\\n')\n",
    "        elif item == 's':\n",
    "            clear_output()\n",
    "            flag = False\n",
    "            see_items(**shopping_list)\n",
    "        elif item == 'r':\n",
    "            clear_output()\n",
    "            flag = False\n",
    "            check_out(**shopping_list)\n",
    "            \n",
    "        elif item == 'q':\n",
    "            clear_output()\n",
    "            flag = False\n",
    "            exit_program()\n",
    "        else:\n",
    "            print('Value non-existent')\n",
    "\n",
    "def continue_shopping(**shopping_list):\n",
    "    shopping_list_store = {\n",
    "        'Shampoo' : 4.99,                                  \n",
    "        'Toothpaste' : 6.99,   \n",
    "        'Toothbrush' : 2.99,                     \n",
    "        'Handsoap' : 1.99,                       \n",
    "        'Mops' : 6.99,          \n",
    "        'Bleach' : 2.99,           \n",
    "        'Brooms' : 10.99,            \n",
    "        'Rubber Gloves' : 7.99,    \n",
    "        'Lamps' : 3.99,                                  \n",
    "        'Tomatoes' : 1.99,\n",
    "        'Pencils H2' : 2.99,                    \n",
    "        'Ribeye' : 18.99,\n",
    "        'Markers' : 6.99,                       \n",
    "        'OJ' : 6.99,                \n",
    "        'Eraser' : 1.99,        \n",
    "        'Milk' : 5.99,              \n",
    "    }\n",
    "\n",
    "    item_equalizer = {\n",
    "        'B1' : 'Shampoo',\n",
    "        'B2' : 'Toothpaste',\n",
    "        'B3' : 'Toothbrush',\n",
    "        'B4' : 'Handsoap',\n",
    "        'C1' : 'Mops',\n",
    "        'C2' : 'Bleach',\n",
    "        'C3' : 'Brooms',\n",
    "        'C4' : 'Rubber Gloves',\n",
    "        'K1' : 'Lamps',\n",
    "        'K2' : 'Pencils H2',\n",
    "        'K3' : 'Markers',\n",
    "        'K4' : 'Eraser',\n",
    "        'G1' : 'Tomatoes',\n",
    "        'G2' : 'Ribeye',\n",
    "        'G3' : 'OJ',\n",
    "        'G4' : 'Milk',\n",
    "        }\n",
    "    \n",
    "    flag = True \n",
    "    while flag:\n",
    "        print('Please add items by their code # (eg. \"B1\")')\n",
    "        print('What Item would you like to add to your cart ? ')\n",
    "        print('You can also choose \"s\" - to see items in cart, \"q\" - to quit, \"r\" - to check out')\n",
    "        print('\\n')\n",
    "        item = input('---->')\n",
    "     \n",
    "        if item in item_equalizer.keys():\n",
    "            x = item_equalizer[item]\n",
    "            shopping_list[x] = shopping_list_store[x]\n",
    "            print(shopping_list)\n",
    "            clear_output()\n",
    "        elif item == 's':\n",
    "            clear_output()\n",
    "            see_items(**shopping_list)\n",
    "        elif item == 'r':\n",
    "            clear_output()\n",
    "            check_out(**shopping_list)\n",
    "        elif item == 'q':\n",
    "            clear_output()\n",
    "            flag = False\n",
    "            exit_program()\n",
    "        else:\n",
    "            print('Value non-existent')\n",
    "\n",
    "\n",
    "\n",
    "# User See Items\n",
    "def see_items(**shopping_list):\n",
    "    clear_output()\n",
    "    print(shopping_list)\n",
    "    print('\\n\\n')\n",
    "    print('This is the current list of items in your shopping cart so far :')\n",
    "    x = 1\n",
    "    for y, z in shopping_list.items():\n",
    "        print(x,'.', y, '\\t\\t',z)\n",
    "        x += 1\n",
    "    print('\\n')\n",
    "    print('Sub-Total : {:.2F}'.format(sum(shopping_list.values())))\n",
    "    print('\\n\\n')\n",
    "    print('Would you like to add or delete any items ? (\"add\" - to add items / \"del\" - to delete items) - \"q\" to quit / \"r\" to check out(register)')\n",
    "    option = input('--> ')\n",
    "\n",
    "    if option == 'del':\n",
    "        delete_items(**shopping_list)\n",
    "    \n",
    "    if option == 'add':\n",
    "        display_list(**shopping_list)\n",
    "\n",
    "    if option == 'r':\n",
    "        check_out(**shopping_list)\n",
    "\n",
    "    if option == 'q':\n",
    "        exit_program()\n",
    "\n",
    "\n",
    "\n",
    "\n",
    "def delete_items(**shopping_list):\n",
    "    print('\\n')\n",
    "    print('  Bathroom Products                                  Cleaning Supplies')\n",
    "    print('    B1. Shampoo       4.99                             C1. Mops              6.99   ')\n",
    "    print('    B2. Toothpaste    6.99                             C2. Bleach            2.99')\n",
    "    print('    B3. Toothbrush    2.99                             C3. Brooms            10.99')\n",
    "    print('    B4. Handsoap      1.99                             C4. Rubber Gloves     7.99')\n",
    "    print(' ')\n",
    "    print('  School Supplies                                    Groceries')\n",
    "    print('    S1. Note book     3.99                             G1. Tomatoes          1.99')\n",
    "    print('    S2. Pencils H2    2.99                             G2. Ribeye            18.99')\n",
    "    print('    S3. Markers       6.99                             G3. OJ                6.99')\n",
    "    print('    S4. Eraser        1.99                             G4. Milk              5.99')\n",
    "    print('\\n')\n",
    "    print('These are the items currnetly in your cart :')\n",
    "    print('\\n')\n",
    "    x = 1\n",
    "    for y, z in shopping_list.items():\n",
    "        print(x,'.', y, '\\t\\t',z)\n",
    "        x += 1\n",
    "    print('\\n')\n",
    "    delete = input('Please enter the item you would like to delete from your list (eg. Shampoo) :')\n",
    "    del shopping_list[delete]\n",
    "    option = input('Would you like to delete any more items ? --> \"y\" or \"n\" / \"r\" to register or \"q\" to quit ')    \n",
    "    if option == 'y':\n",
    "        delete_items(**shopping_list)\n",
    "    if option == 'n':\n",
    "        see_items(**shopping_list)\n",
    "\n",
    "    if option == 'r':\n",
    "        check_out(**shopping_list)\n",
    "\n",
    "    if option == 'q':\n",
    "        exit_program()\n",
    "\n",
    "    \n",
    "\n",
    "\n",
    "# Print all Items as a check out\n",
    "def check_out(**shopping_list):\n",
    "    print('\\n\\n')\n",
    "    x = 1\n",
    "    for y, z in shopping_list.items():\n",
    "        print(x,'.', y, '\\t\\t', z)\n",
    "        x += 1\n",
    "    print('Your total for today is :')\n",
    "    print('TOTAL : {:.2F}'.format(sum(shopping_list.values())))\n",
    "    exit_program()\n",
    "\n",
    "\n",
    "# Exit Program Befor Shopping\n",
    "def exit_program():\n",
    "    clear_output()\n",
    "    print('\\n\\nThank you for visiting us. We hope to see you soon!!!')\n",
    "\n",
    "    print('\\n\\n\\n')\n",
    "    exit()\n",
    "\n",
    "\n",
    "greeting()\n",
    "\n",
    "print('\\n\\n\\n\\n')\n"
   ]
  },
  {
   "cell_type": "markdown",
   "metadata": {},
   "source": [
    "### 2) Create a Module in VS Code and Import It into jupyter notebook <br>\n",
    "<p><b>Module should have the following capabilities:</b><br><br>\n",
    "1) Has a function to calculate the square footage of a house <br>\n",
    "    <b>Reminder of Formula: Length X Width == Area<br>\n",
    "        <hr>\n",
    "2) Has a function to calculate the circumference of a circle <br><br>\n",
    "<b>Program in Jupyter Notebook should take in user input and use imported functions to calculate a circle's circumference or a houses square footage</b>\n",
    "</p>"
   ]
  },
  {
   "cell_type": "code",
   "execution_count": 24,
   "metadata": {},
   "outputs": [
    {
     "name": "stdout",
     "output_type": "stream",
     "text": [
      "Please enter the raadius of the circle you would like to calculate the circumference for : --- >  8\n",
      "50.26548245743669\n",
      "\n",
      "Please enter the length of the house in feet -----> \n",
      "58\n",
      "Please enter the width of the house in feet -----> \n",
      "77\n",
      "4466\n"
     ]
    }
   ],
   "source": [
    "import math\n",
    "from module_exercise import circumference_circle as cc\n",
    "from module_exercise import square_footage as sf\n",
    "\n",
    "# Circumference Circle \n",
    "\n",
    "print(cc())\n",
    "\n",
    "# Area House\n",
    "\n",
    "print(sf())"
   ]
  }
 ],
 "metadata": {
  "kernelspec": {
   "display_name": "Python 3 (ipykernel)",
   "language": "python",
   "name": "python3"
  },
  "language_info": {
   "codemirror_mode": {
    "name": "ipython",
    "version": 3
   },
   "file_extension": ".py",
   "mimetype": "text/x-python",
   "name": "python",
   "nbconvert_exporter": "python",
   "pygments_lexer": "ipython3",
   "version": "3.9.12"
  }
 },
 "nbformat": 4,
 "nbformat_minor": 2
}
